{
 "cells": [
  {
   "cell_type": "code",
   "execution_count": 5,
   "id": "74334230-2bef-4c97-a53c-d557e77b00dd",
   "metadata": {},
   "outputs": [
    {
     "name": "stdout",
     "output_type": "stream",
     "text": [
      "Input list elements:\n",
      "10\n",
      "20\n",
      "30\n",
      "40\n",
      "50\n"
     ]
    }
   ],
   "source": [
    "# Q1. Explain with an example each when to use a for loop and a while loop.\n",
    "\n",
    "# For Loop \n",
    "# The for loop is used when we know the number of iterations, that is, how many times a statement must be executed. \n",
    "# That is why, when we initialize the for loop, we must define the ending point\n",
    "\n",
    "# EXAMPLE :\n",
    "inputList = [10, 20, 30, 40, 50]\n",
    "print(\"Input list elements:\")\n",
    "# traversing through all elements of the list using for loop\n",
    "for element in inputList:\n",
    "   # printing each element of the list\n",
    "   print(element)\n",
    "    \n"
   ]
  },
  {
   "cell_type": "code",
   "execution_count": 6,
   "id": "e5337efb-b5df-421c-b9cd-010371645b2d",
   "metadata": {},
   "outputs": [
    {
     "name": "stdout",
     "output_type": "stream",
     "text": [
      "1\n",
      "2\n",
      "3\n",
      "4\n",
      "5\n",
      "6\n",
      "7\n",
      "8\n",
      "9\n"
     ]
    }
   ],
   "source": [
    "# While loop : -\n",
    "# A while loop is used when the number of iterations is unknown. \n",
    "# It is used when we need to end the loop on a condition other than the number of repetitions. It is not necessary to know the condition ahead of time in this case. \n",
    "# That is why we can use a boolean expression in the loop's initialization.\n",
    "\n",
    "# EXAMPLE :-\n",
    "# Initializing a dummy variable with 1\n",
    "i = 1\n",
    "# Iterate until the given condition is true\n",
    "while i < 10:\n",
    "   # printing the current value of the above variable\n",
    "   print(i)\n",
    "   # incrementing the value of i value by 1\n",
    "   i += 1 "
   ]
  },
  {
   "cell_type": "code",
   "execution_count": 32,
   "id": "c415a2fa-1c81-4f95-b75e-63a6ccc25f5f",
   "metadata": {},
   "outputs": [
    {
     "name": "stdout",
     "output_type": "stream",
     "text": [
      "O/P using for loop\n",
      "The sum of first 10 natural numbers is : 55\n",
      "The product of first 10 natural numbers is : 3628800\n",
      "____________________________________________________________________________________________________\n",
      "O/P using while loop\n",
      "sum of first 10 natural numbers 55\n",
      "The product of first 10 natural numbers is : 3628800\n"
     ]
    }
   ],
   "source": [
    "# Q2. Write a python program to print the sum and product of the first 10 natural numbers using for\n",
    "# and while loop.\n",
    " \n",
    "# => Using For loop \n",
    "sum_num = 0\n",
    "product_num = 1\n",
    "for i in range(10):\n",
    "    sum_num = sum_num + (i+1) \n",
    "    product_num = product_num * (i+1)\n",
    "print(\"O/P using for loop\")    \n",
    "#print(\"The product of first 10 natural numbers is :\" , product_num)\n",
    "print(\"The sum of first 10 natural numbers is :\" , sum_num)\n",
    "#print(\"The product of first 10 natural numbers is :\" , product_num)\n",
    "print(\"The product of first 10 natural numbers is :\" , product_num)\n",
    "print(\"__\"*50)\n",
    "\n",
    "# => using while loop \n",
    "while sum_num <= 10 :\n",
    "    sum_num = sum_num + 1\n",
    "    product_num = product_num * (sum_num + 1)\n",
    "print(\"O/P using while loop\")    \n",
    "print(\"sum of first 10 natural numbers\",sum_num)\n",
    "print(\"The product of first 10 natural numbers is :\" , product_num)"
   ]
  },
  {
   "cell_type": "code",
   "execution_count": 1,
   "id": "84895195-ac63-4372-b776-4e4d4c0c4448",
   "metadata": {},
   "outputs": [
    {
     "name": "stdin",
     "output_type": "stream",
     "text": [
      " Please enter Number of Units you Consumed :  310\n"
     ]
    },
    {
     "name": "stdout",
     "output_type": "stream",
     "text": [
      "\n",
      "Electricity Bill = 2250.00\n"
     ]
    }
   ],
   "source": [
    "# Q3. Create a python program to compute the electricity bill for a household.\n",
    "# The per-unit charges in rupees are as follows: For the first 100 units, the user will be charged Rs. 4.5 per unit,\n",
    "# for the next 100 units, the user will be charged Rs. 6 per unit, and for the next 100 units, the user will\n",
    "# be charged Rs. 10 per unit, After 300 units and above the user will be charged Rs. 20 per unit.\n",
    "\n",
    "# => \n",
    "units = int(input(\" Please enter Number of Units you Consumed : \"))\n",
    "\n",
    "\n",
    "if(units <= 100):\n",
    "    amount = units * 4.5\n",
    "    \n",
    "elif(100 < units <= 200):\n",
    "    amount = 450 + ((units - 100) * 6)\n",
    "    \n",
    "elif(200 < units < 300):\n",
    "    amount = 450 + 600 + ((units - 200) * 10)\n",
    "    \n",
    "else:\n",
    "    amount = 450 + 600 + 1000 + ((units-300) * 20)\n",
    "    \n",
    "\n",
    "electricity_bill = amount \n",
    "if (units < 0):\n",
    "    print(\"please enter a positibe units you consumed : \")\n",
    "else :\n",
    "    print(\"\\nElectricity Bill = %.2f\"  %electricity_bill)"
   ]
  },
  {
   "cell_type": "code",
   "execution_count": 27,
   "id": "aceb98bf-64d0-4dd7-893a-89f08a09f4a0",
   "metadata": {},
   "outputs": [
    {
     "name": "stdout",
     "output_type": "stream",
     "text": [
      "[8, 64, 125, 216, 512, 1000, 1728, 2744, 3375, 4096, 5832, 8000, 10648, 13824, 15625, 17576, 21952, 27000, 32768, 39304, 42875, 46656, 54872, 64000, 74088, 85184, 91125, 97336, 110592, 125000, 140608, 157464, 166375, 175616, 195112, 216000, 238328, 262144, 274625, 287496, 314432, 343000, 373248, 405224, 421875, 438976, 474552, 512000, 551368, 592704, 614125, 636056, 681472, 729000, 778688, 830584, 857375, 884736, 941192, 1000000]\n"
     ]
    }
   ],
   "source": [
    "# Q4. Create a list of numbers from 1 to 100. Use for loop and while loop to calculate the cube of each\n",
    "# number and if the cube of that number is divisible by 4 or 5 then append that number in a list and print\n",
    "# that list.\n",
    "#=>\n",
    "l=[]\n",
    "for i in range(100):\n",
    "    i += 1\n",
    "    cube = i**3\n",
    "    if cube%4==0 or cube%5==0:\n",
    "        l.append(cube)\n",
    "print(l)        \n",
    "       \n",
    "        "
   ]
  },
  {
   "cell_type": "code",
   "execution_count": 30,
   "id": "6f21b393-c85a-4806-99e5-e24a4354af7e",
   "metadata": {},
   "outputs": [
    {
     "name": "stdout",
     "output_type": "stream",
     "text": [
      "No. of vowels : 12\n"
     ]
    }
   ],
   "source": [
    "# Q5. Write a program to filter count vowels in the below-given string.\n",
    "# string = \"I want to become a data scientist\"\n",
    "\n",
    "# => \n",
    "# Function to count vowel\n",
    "def vowel_count(str):\n",
    "     \n",
    "    # Initializing count variable to 0\n",
    "    count = 0\n",
    "     \n",
    "    # Creating a set of vowels\n",
    "    vowel = set(\"aeiouAEIOU\")\n",
    "     \n",
    "    # Loop to traverse the alphabet\n",
    "    # in the given string\n",
    "    for alphabet in str:\n",
    "     \n",
    "        # If alphabet is present\n",
    "        # in set vowel\n",
    "        if alphabet in vowel:\n",
    "            count = count + 1\n",
    "     \n",
    "    print(\"No. of vowels :\", count)\n",
    "     \n",
    "# Driver code\n",
    "str = \"I want to become a data scientist\"\n",
    " \n",
    "# Function Call\n",
    "vowel_count(str)"
   ]
  },
  {
   "cell_type": "code",
   "execution_count": null,
   "id": "367a6b98-e3c5-4f94-ae1c-54c7bf6b404a",
   "metadata": {},
   "outputs": [],
   "source": []
  }
 ],
 "metadata": {
  "kernelspec": {
   "display_name": "Python 3 (ipykernel)",
   "language": "python",
   "name": "python3"
  },
  "language_info": {
   "codemirror_mode": {
    "name": "ipython",
    "version": 3
   },
   "file_extension": ".py",
   "mimetype": "text/x-python",
   "name": "python",
   "nbconvert_exporter": "python",
   "pygments_lexer": "ipython3",
   "version": "3.10.8"
  }
 },
 "nbformat": 4,
 "nbformat_minor": 5
}
