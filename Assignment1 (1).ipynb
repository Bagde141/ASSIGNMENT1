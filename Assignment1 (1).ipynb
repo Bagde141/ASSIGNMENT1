{
 "cells": [
  {
   "cell_type": "code",
   "execution_count": 1,
   "id": "0af62f61-2e22-49ba-8274-1a4909c519ee",
   "metadata": {},
   "outputs": [],
   "source": [
    "# Question 1. => Guido van Rossum"
   ]
  },
  {
   "cell_type": "code",
   "execution_count": 2,
   "id": "9aab3285-9cc8-4a74-9246-5be7cbe29ccb",
   "metadata": {},
   "outputs": [],
   "source": [
    "# Question 2. => Python is a multi-paradigm language which supports Object Oriented Programming (OOPS) and Structured Programming are \n",
    "#                fully supported and many of their features support Functional programming and  Aspect Oriented programming \n",
    "#                (including metaprogramming and metaobjects)."
   ]
  },
  {
   "cell_type": "code",
   "execution_count": 4,
   "id": "c9d721b2-1365-423e-b35a-61fa45c30677",
   "metadata": {},
   "outputs": [],
   "source": [
    " # Question 3. => yes, python is case-sensitive language."
   ]
  },
  {
   "cell_type": "code",
   "execution_count": 5,
   "id": "d0b3af67-3da0-4627-8289-dbc6d283e1ca",
   "metadata": {},
   "outputs": [],
   "source": [
    "# Question 4. => .py is the correct extension of python file. "
   ]
  },
  {
   "cell_type": "code",
   "execution_count": 6,
   "id": "5e67b4ae-b032-4587-8d09-459e520bb633",
   "metadata": {},
   "outputs": [],
   "source": [
    "# Question 5. => Python is an interpreted language."
   ]
  },
  {
   "cell_type": "code",
   "execution_count": 7,
   "id": "e10ceb68-8df2-48eb-b061-c0c4b932701d",
   "metadata": {},
   "outputs": [],
   "source": [
    "# Question 6. => A block is a piece of python program text that is executed as a unit.\n",
    "#                The following are blocks :\n",
    "#                a module ,a function body ,and a class definition"
   ]
  },
  {
   "cell_type": "code",
   "execution_count": 8,
   "id": "f884596b-7bfb-4b73-98d6-715108385848",
   "metadata": {},
   "outputs": [],
   "source": [
    "# Question 7. => Hash character (#) is used to comment the line in the python program."
   ]
  },
  {
   "cell_type": "code",
   "execution_count": 9,
   "id": "b281c291-5dce-4fa5-a875-3eb2817fe2a0",
   "metadata": {},
   "outputs": [],
   "source": [
    "# Question 8. => The function sys.version can help us to find the version of python that we are currently working on ."
   ]
  },
  {
   "cell_type": "code",
   "execution_count": 10,
   "id": "59de6ce0-36b9-45ea-a750-ea9199c4c1ec",
   "metadata": {},
   "outputs": [],
   "source": [
    "# Question 9. => \"lambda\"."
   ]
  },
  {
   "cell_type": "code",
   "execution_count": 11,
   "id": "3402da52-797e-4d78-b427-4b68ee2bc75d",
   "metadata": {},
   "outputs": [],
   "source": [
    "# Question 10. => PIP stands for 'preffered installer program'."
   ]
  },
  {
   "cell_type": "code",
   "execution_count": 12,
   "id": "267b2acf-8ae3-4c55-9e7f-1751d280ba36",
   "metadata": {},
   "outputs": [],
   "source": [
    "# Question 11. => python built-in functions : \n",
    "#                1) print() function. 2) type() function. 3) input() function. 4) abs() function. \n",
    "#                5) pop() function. 6) sorted() function. 7) max() function."
   ]
  },
  {
   "cell_type": "code",
   "execution_count": 13,
   "id": "b8c944c1-eca9-4243-b59e-c209e11d4939",
   "metadata": {},
   "outputs": [],
   "source": [
    "# Question 12. => An identifier can have a maximun length of 79 characters in python."
   ]
  },
  {
   "cell_type": "code",
   "execution_count": 14,
   "id": "1e5c76e4-0227-499a-ada7-ce360a25e78f",
   "metadata": {},
   "outputs": [],
   "source": [
    "# Question 13. => benifits of using python : \n",
    "#                 1) llarge developer community. 2) Extensive libraries. 3) write less, Do more \n",
    "#                 4) we can run our program across windows ,MAC OS ,and Linux without modifying the program code. \n",
    "#                 5) wide range of use cases.  "
   ]
  },
  {
   "cell_type": "code",
   "execution_count": 15,
   "id": "64ea40f4-f913-4ec6-bd1a-cbcca7fd626c",
   "metadata": {},
   "outputs": [],
   "source": [
    "# Question 14. => Memory in python is managed by Python private heap space."
   ]
  },
  {
   "cell_type": "code",
   "execution_count": 16,
   "id": "a4003b3a-dd80-456c-b23a-0245ab4cf286",
   "metadata": {},
   "outputs": [],
   "source": [
    "# Question 15. => Install python from this link https://www.python.org/downloads/\n",
    "# After this, install it on your PC. Look for the location where PYTHON has been installed on your PC \n",
    "# using tge following command on your command prompt: cmd python.\n",
    "# Then go to advanced system settings and add new variable and name it as PYTHON_NAME and paste the copied path.\n",
    "# Then look for the path variable, select it's value and select edit\n",
    "# Add a semicolon towards the end of the value if it's not present and then type %PYTHON_HOME% "
   ]
  },
  {
   "cell_type": "code",
   "execution_count": 17,
   "id": "27645b42-052e-44fd-922d-57a03b28e941",
   "metadata": {},
   "outputs": [],
   "source": [
    "# Question 16. => The indentation in python is very important. python uses indentation to indicate a block of code."
   ]
  },
  {
   "cell_type": "code",
   "execution_count": null,
   "id": "ed53f2ad-929b-4933-9651-a3ab43e6a056",
   "metadata": {},
   "outputs": [],
   "source": []
  }
 ],
 "metadata": {
  "kernelspec": {
   "display_name": "Python 3 (ipykernel)",
   "language": "python",
   "name": "python3"
  },
  "language_info": {
   "codemirror_mode": {
    "name": "ipython",
    "version": 3
   },
   "file_extension": ".py",
   "mimetype": "text/x-python",
   "name": "python",
   "nbconvert_exporter": "python",
   "pygments_lexer": "ipython3",
   "version": "3.10.8"
  }
 },
 "nbformat": 4,
 "nbformat_minor": 5
}
